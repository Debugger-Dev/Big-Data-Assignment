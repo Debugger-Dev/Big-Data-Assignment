{
  "nbformat": 4,
  "nbformat_minor": 0,
  "metadata": {
    "colab": {
      "name": "Python Assignment",
      "provenance": [],
      "authorship_tag": "ABX9TyPlwFJCikvQgfTs3rd0BSwN",
      "include_colab_link": true
    },
    "kernelspec": {
      "name": "python3",
      "display_name": "Python 3"
    },
    "language_info": {
      "name": "python"
    }
  },
  "cells": [
    {
      "cell_type": "markdown",
      "metadata": {
        "id": "view-in-github",
        "colab_type": "text"
      },
      "source": [
        "<a href=\"https://colab.research.google.com/github/Debugger-Dev/Big-Data-Assignment/blob/main/Python_Assignment.ipynb\" target=\"_parent\"><img src=\"https://colab.research.google.com/assets/colab-badge.svg\" alt=\"Open In Colab\"/></a>"
      ]
    },
    {
      "cell_type": "markdown",
      "source": [
        "**Description**: Remove SPSS from input_list=['SAS', 'R', 'PYTHON', 'SPSS'] and add 'SPARK'\n",
        "in its place."
      ],
      "metadata": {
        "id": "s0rBCWh8UDbz"
      }
    },
    {
      "cell_type": "code",
      "execution_count": 20,
      "metadata": {
        "colab": {
          "base_uri": "https://localhost:8080/"
        },
        "id": "UsgsVuQTTtgW",
        "outputId": "9fc7fbba-a7f6-4e2b-91e8-7100058092fb"
      },
      "outputs": [
        {
          "output_type": "execute_result",
          "data": {
            "text/plain": [
              "['SAS', 'R', 'PYTHON', 'SPARK']"
            ]
          },
          "metadata": {},
          "execution_count": 20
        }
      ],
      "source": [
        "input_list=['SAS', 'R', 'PYTHON', 'SPSS']\n",
        "input_list.pop()\n",
        "input_list.append(\"SPARK\")\n",
        "input_list"
      ]
    },
    {
      "cell_type": "markdown",
      "source": [
        "**String to List Conversion\n",
        "Description** : Convert a string input_str = 'I love Data Science & Python' to a list by\n",
        "splitting it on ‘&’. The sample output for this string will be:"
      ],
      "metadata": {
        "id": "uHViqB-fV4r4"
      }
    },
    {
      "cell_type": "code",
      "source": [
        "input_str = 'I love Data Science & Python'\n",
        "output=input_str.split(\"&\")\n",
        "output"
      ],
      "metadata": {
        "colab": {
          "base_uri": "https://localhost:8080/"
        },
        "id": "bEmZjS95V1z5",
        "outputId": "08bb8598-19e3-4e8e-b963-a9bed6bead2e"
      },
      "execution_count": 22,
      "outputs": [
        {
          "output_type": "execute_result",
          "data": {
            "text/plain": [
              "['I love Data Science ', ' Python']"
            ]
          },
          "metadata": {},
          "execution_count": 22
        }
      ]
    },
    {
      "cell_type": "markdown",
      "source": [
        "**List to String Conversion\n",
        "Description**: Convert a list ['Pythons syntax is easy to learn', 'Pythons syntax is very\n",
        "clear'] to a string using ‘&’. The sample output of this string will be:"
      ],
      "metadata": {
        "id": "Dn-yMM5kWZ_g"
      }
    },
    {
      "cell_type": "code",
      "source": [
        "lst=['Pythons syntax is easy to learn', 'Pythons syntax is very clear']\n",
        "s=' & '.join([str(i) for i in lst])\n",
        "s"
      ],
      "metadata": {
        "colab": {
          "base_uri": "https://localhost:8080/",
          "height": 35
        },
        "id": "e-2mA5XoWa4I",
        "outputId": "b68a1279-3f83-47cc-b8cf-8fa5f6c1bc82"
      },
      "execution_count": 28,
      "outputs": [
        {
          "output_type": "execute_result",
          "data": {
            "text/plain": [
              "'Pythons syntax is easy to learn & Pythons syntax is very clear'"
            ],
            "application/vnd.google.colaboratory.intrinsic+json": {
              "type": "string"
            }
          },
          "metadata": {},
          "execution_count": 28
        }
      ]
    },
    {
      "cell_type": "markdown",
      "source": [
        "**Nested List\n",
        "Description**: Extract Python from a nested list\n",
        "input_list = [['SAS','R'],['Tableau','SQL'],['Python','Java']]"
      ],
      "metadata": {
        "id": "u1RXVyAjXy_M"
      }
    },
    {
      "cell_type": "code",
      "source": [
        "input_list = [['SAS','R'],['Tableau','SQL'],['Python','Java']]\n",
        "input_list[2][0]"
      ],
      "metadata": {
        "colab": {
          "base_uri": "https://localhost:8080/",
          "height": 35
        },
        "id": "Nl7TjglGXtQL",
        "outputId": "3e7497b0-e1ae-4f92-faa5-cf6ab8acb8bb"
      },
      "execution_count": 29,
      "outputs": [
        {
          "output_type": "execute_result",
          "data": {
            "text/plain": [
              "'Python'"
            ],
            "application/vnd.google.colaboratory.intrinsic+json": {
              "type": "string"
            }
          },
          "metadata": {},
          "execution_count": 29
        }
      ]
    },
    {
      "cell_type": "markdown",
      "source": [
        "**It’s the time to disco**\n",
        "Description: t = (\"disco\", 12, 4.5)\n",
        "What is the output of: t[0][2]\n",
        "\n",
        "\n",
        "'s'"
      ],
      "metadata": {
        "id": "LAGERae1YKX_"
      }
    },
    {
      "cell_type": "markdown",
      "source": [
        "**String Palindrome\n",
        "Description**: Write a program to check whether a string is a palindrome or not. Print 1 if\n",
        "the string is a palindrome and 0 otherwise.\n",
        "\n",
        "Input: Any string\n",
        "Output: 1 if the string is palindrome, 0 otherwise."
      ],
      "metadata": {
        "id": "vUH0uvjWYdzJ"
      }
    },
    {
      "cell_type": "code",
      "source": [
        "str=input(\"Enter a string for Palindrome test!!!: \")\n",
        "str=str.upper()\n",
        "if str== str[::-1]:\n",
        "  print(1)\n",
        "else:\n",
        "  print(0)"
      ],
      "metadata": {
        "colab": {
          "base_uri": "https://localhost:8080/"
        },
        "id": "cHeMk-U5YjnT",
        "outputId": "4db0f3e3-3760-41ed-d136-900003502572"
      },
      "execution_count": 40,
      "outputs": [
        {
          "output_type": "stream",
          "name": "stdout",
          "text": [
            "Enter a string for Palindrome test!!!: mad\n",
            "0\n"
          ]
        }
      ]
    },
    {
      "cell_type": "markdown",
      "source": [
        "**Reverse Words\n",
        "Description**: You will be given a sentence in the form of a string. You have to reverse the\n",
        "order of the words in the sentence. Remember not to reverse the individual words, but\n",
        "the order of words. Check the sample input-output for further clarification.\n",
        "Input: A string, which will consist of a few spaces.\n",
        "Output: The words in reverse order"
      ],
      "metadata": {
        "id": "gdfjh824Ztuj"
      }
    },
    {
      "cell_type": "code",
      "source": [
        "strng=input(\"Enter a String: \")\n",
        "strng_sep=strng.split(\" \")\n",
        "rev_strng=reversed(strng_sep)\n",
        "new_strng=\" \".join(rev_strng)\n",
        "new_strng"
      ],
      "metadata": {
        "colab": {
          "base_uri": "https://localhost:8080/",
          "height": 53
        },
        "id": "NYqUhQqrZmwf",
        "outputId": "4514fdbe-b100-41e0-daa9-64b98d85ab48"
      },
      "execution_count": 45,
      "outputs": [
        {
          "name": "stdout",
          "output_type": "stream",
          "text": [
            "Enter a String: aba aba bab\n"
          ]
        },
        {
          "output_type": "execute_result",
          "data": {
            "text/plain": [
              "'bab aba aba'"
            ],
            "application/vnd.google.colaboratory.intrinsic+json": {
              "type": "string"
            }
          },
          "metadata": {},
          "execution_count": 45
        }
      ]
    },
    {
      "cell_type": "markdown",
      "source": [
        "**String Formatting**\n",
        "Description: Write a program that satisfies below examples\n",
        "Input 1: caloRie ConsuMed\n",
        "Output 1: calorie_consumed\n",
        "Input 2: data science\n",
        "Output 2: data_science\n",
        "Input 3: datascience\n",
        "Output 3: datascience"
      ],
      "metadata": {
        "id": "A_e1fHH_g1ZE"
      }
    },
    {
      "cell_type": "code",
      "source": [
        "input_str=input(\"Enter a String: \")\n",
        "str1=input_str.lower()\n",
        "str2=str1.split(\" \")\n",
        "str3=\"_\".join(str2)\n",
        "str3"
      ],
      "metadata": {
        "colab": {
          "base_uri": "https://localhost:8080/",
          "height": 53
        },
        "id": "SITDRzuwgxZY",
        "outputId": "97fb3691-198d-4ef7-bc0a-19fe7774377a"
      },
      "execution_count": 53,
      "outputs": [
        {
          "name": "stdout",
          "output_type": "stream",
          "text": [
            "Enter a String: datascience\n"
          ]
        },
        {
          "output_type": "execute_result",
          "data": {
            "text/plain": [
              "'datascience'"
            ],
            "application/vnd.google.colaboratory.intrinsic+json": {
              "type": "string"
            }
          },
          "metadata": {},
          "execution_count": 53
        }
      ]
    },
    {
      "cell_type": "code",
      "source": [
        "print(list(range(10, 1, -1)))"
      ],
      "metadata": {
        "colab": {
          "base_uri": "https://localhost:8080/"
        },
        "id": "wb8TZmVXimix",
        "outputId": "f1b0ff9f-499f-4190-c638-6c8dc2266361"
      },
      "execution_count": 75,
      "outputs": [
        {
          "output_type": "stream",
          "name": "stdout",
          "text": [
            "[10, 9, 8, 7, 6, 5, 4, 3, 2]\n"
          ]
        }
      ]
    },
    {
      "cell_type": "markdown",
      "source": [
        "**Multiple Choice Questions**"
      ],
      "metadata": {
        "id": "jc7scKQuneBt"
      }
    },
    {
      "cell_type": "markdown",
      "source": [
        "1\n",
        "* b. S[2:6]\n",
        "* d. S[-11:-7]\n",
        "\n"
      ],
      "metadata": {
        "id": "RsA79pHZiZ4B"
      }
    },
    {
      "cell_type": "markdown",
      "source": [
        "2\n",
        "* c. 81"
      ],
      "metadata": {
        "id": "kQvhTs0OjESG"
      }
    },
    {
      "cell_type": "markdown",
      "source": [
        "3\n",
        "* a. 1"
      ],
      "metadata": {
        "id": "8itKBuG-jaQZ"
      }
    },
    {
      "cell_type": "markdown",
      "source": [
        "4\n",
        "* d. Error"
      ],
      "metadata": {
        "id": "4Bvkl7ZgjpYA"
      }
    },
    {
      "cell_type": "markdown",
      "source": [
        "5\n",
        "* **There is no program attached**"
      ],
      "metadata": {
        "id": "xO9qS3Y6j86i"
      }
    },
    {
      "cell_type": "markdown",
      "source": [
        "6\n",
        "* d. The code will throw an error"
      ],
      "metadata": {
        "id": "D7SX6vNukuOD"
      }
    },
    {
      "cell_type": "markdown",
      "source": [
        "7\n",
        "* c. Sets are immutable"
      ],
      "metadata": {
        "id": "kS3DlPBRkvCW"
      }
    },
    {
      "cell_type": "markdown",
      "source": [
        "8\n",
        "* b. \n",
        " * [‘Raj’, 22]\n",
        " * [‘Simran’, 21]\n",
        " * [‘Rahul’, 40]"
      ],
      "metadata": {
        "id": "5PQRzi1hlM8b"
      }
    },
    {
      "cell_type": "markdown",
      "source": [
        "9\n",
        "* d. [word for word in sentence.split() for sentence in paragraph]"
      ],
      "metadata": {
        "id": "f6iLs3Cil2S7"
      }
    },
    {
      "cell_type": "markdown",
      "source": [
        "10\n",
        "* d. [10, 9, 8, 7, 6, 5, 4, 3, 2]"
      ],
      "metadata": {
        "id": "ENkyrC4emel5"
      }
    }
  ]
}